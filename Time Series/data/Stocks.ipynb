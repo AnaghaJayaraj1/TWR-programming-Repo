{
 "cells": [
  {
   "cell_type": "code",
   "execution_count": 5,
   "metadata": {},
   "outputs": [],
   "source": [
    "#!/usr/bin/env python3\n",
    "# -*- coding: utf-8 -*-\n",
    "import os\n",
    "import dash\n",
    "import dash_core_components as dcc\n",
    "import dash_html_components as html\n",
    "import pandas as pd\n",
    "import plotly.graph_objs as go\n",
    "import app\n",
    "from dash.dependencies import Input, Output"
   ]
  },
  {
   "cell_type": "code",
   "execution_count": 6,
   "metadata": {},
   "outputs": [],
   "source": [
    "df = pd.read_csv('world_stocks.csv')"
   ]
  },
  {
   "cell_type": "code",
   "execution_count": 9,
   "metadata": {},
   "outputs": [],
   "source": [
    "df['Date'] = pd.to_datetime(df.Date, infer_datetime_format=True)\n",
    "\n",
    "if 'DYNO' in os.environ:\n",
    "    app_name = os.environ['DASH_APP_NAME']\n",
    "else:\n",
    "    app_name = 'dash-timeseriesplot'\n",
    "\n",
    "layout = html.Div([html.H1(\"Stock Prices\", style={'textAlign': 'center'}),\n",
    "    dcc.Dropdown(id='my-dropdown',options=[{'label': 'Tesla', 'value': 'TSLA'},{'label': 'Apple', 'value': 'AAPL'},{'label': 'Coke', 'value': 'COKE'}],\n",
    "        multi=True,value=['TSLA'],style={\"display\": \"block\",\"margin-left\": \"auto\",\"margin-right\": \"auto\",\"width\": \"60%\"}),\n",
    "    dcc.Graph(id='my-graph')], className=\"container\")"
   ]
  },
  {
   "cell_type": "code",
   "execution_count": 10,
   "metadata": {},
   "outputs": [
    {
     "ename": "SyntaxError",
     "evalue": "unexpected EOF while parsing (<ipython-input-10-696076a2ad99>, line 1)",
     "output_type": "error",
     "traceback": [
      "\u001b[1;36m  File \u001b[1;32m\"<ipython-input-10-696076a2ad99>\"\u001b[1;36m, line \u001b[1;32m1\u001b[0m\n\u001b[1;33m    @app.callback(Output('my-graph', 'figure'),[Input('my-dropdown', 'value')])\u001b[0m\n\u001b[1;37m                                                                               ^\u001b[0m\n\u001b[1;31mSyntaxError\u001b[0m\u001b[1;31m:\u001b[0m unexpected EOF while parsing\n"
     ]
    }
   ],
   "source": [
    "@app.callback(Output('my-graph', 'figure'),[Input('my-dropdown', 'value')])"
   ]
  },
  {
   "cell_type": "code",
   "execution_count": null,
   "metadata": {},
   "outputs": [],
   "source": [
    "def update_graph(selected_dropdown_value):\n",
    "    dropdown = {\"TSLA\": \"Tesla\",\"AAPL\": \"Apple\",\"COKE\": \"Coke\",}\n",
    "    trace1 = []\n",
    "    trace2 = []\n",
    "    for stock in selected_dropdown_value:\n",
    "        trace1.append(go.Scatter(x=df[df[\"Stock\"] == stock][\"Date\"],y=df[df[\"Stock\"] == stock][\"Open\"],mode='lines',\n",
    "            opacity=0.7,name=f'Open {dropdown[stock]}',textposition='bottom center'))\n",
    "        trace2.append(go.Scatter(x=df[df[\"Stock\"] == stock][\"Date\"],y=df[df[\"Stock\"] == stock][\"Close\"],mode='lines',\n",
    "            opacity=0.6,name=f'Close {dropdown[stock]}',textposition='bottom center'))\n",
    "    traces = [trace1, trace2]\n",
    "    data = [val for sublist in traces for val in sublist]\n",
    "    figure = {'data': data,\n",
    "        'layout': go.Layout(colorway=[\"#5E0DAC\", '#FF4F00', '#375CB1', '#FF7400', '#FFF400', '#FF0056'],\n",
    "            height=600,title=f\"Opening and Closing Prices for {', '.join(str(dropdown[i]) for i in selected_dropdown_value)} Over Time\",\n",
    "            xaxis={\"title\":\"Date\",\n",
    "                   'rangeselector': {'buttons': list([{'count': 1, 'label': '1M', 'step': 'month', 'stepmode': 'backward'},\n",
    "                                                      {'count': 6, 'label': '6M', 'step': 'month', 'stepmode': 'backward'},\n",
    "                                                      {'step': 'all'}])},\n",
    "                   'rangeslider': {'visible': True}, 'type': 'date'},yaxis={\"title\":\"Price (USD)\"})}\n",
    "    return figure"
   ]
  }
 ],
 "metadata": {
  "kernelspec": {
   "display_name": "Python 3",
   "language": "python",
   "name": "python3"
  },
  "language_info": {
   "codemirror_mode": {
    "name": "ipython",
    "version": 3
   },
   "file_extension": ".py",
   "mimetype": "text/x-python",
   "name": "python",
   "nbconvert_exporter": "python",
   "pygments_lexer": "ipython3",
   "version": "3.7.4"
  }
 },
 "nbformat": 4,
 "nbformat_minor": 2
}
